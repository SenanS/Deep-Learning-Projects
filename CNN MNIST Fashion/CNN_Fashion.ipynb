{
 "cells": [
  {
   "cell_type": "code",
   "execution_count": 46,
   "metadata": {},
   "outputs": [],
   "source": [
    "import tensorflow as tf\n",
    "from tensorflow.keras import models\n",
    "from tensorflow.keras import layers\n",
    "from tensorflow.keras.layers import Dropout\n",
    "from tensorflow.keras.utils import to_categorical\n",
    "\n",
    "from matplotlib import pyplot as plt\n",
    "import numpy as np\n",
    "import pandas as pd\n",
    "from sklearn.model_selection import train_test_split"
   ]
  },
  {
   "cell_type": "code",
   "execution_count": 30,
   "metadata": {},
   "outputs": [
    {
     "name": "stdout",
     "output_type": "stream",
     "text": [
      "Default GPU Device: /device:GPU:0\n"
     ]
    }
   ],
   "source": [
    "# Check training will be done on GPU\n",
    "if tf.test.gpu_device_name():\n",
    "    print('Default GPU Device: {}'.format(tf.test.gpu_device_name()))\n",
    "else:\n",
    "    print(\"Please install GPU version of TF\")\n",
    "    "
   ]
  },
  {
   "cell_type": "code",
   "execution_count": 31,
   "metadata": {},
   "outputs": [
    {
     "data": {
      "text/plain": [
       "((60000, 785), (10000, 785))"
      ]
     },
     "execution_count": 31,
     "metadata": {},
     "output_type": "execute_result"
    }
   ],
   "source": [
    "# Loading Fashion MNIST training and test dataset\n",
    "\n",
    "fashion_mnist_train = pd.read_csv('/Users/senst/Documents/Tensorflow/Deep Learning Projects/data/MNIST Fashion/fashion-mnist_train.csv')\n",
    "fashion_mnist_test  = pd.read_csv('/Users/senst/Documents/Tensorflow/Deep Learning Projects/data/MNIST Fashion/fashion-mnist_test.csv')\n",
    "\n",
    "fashion_mnist_train.shape, fashion_mnist_test.shape"
   ]
  },
  {
   "cell_type": "code",
   "execution_count": 47,
   "metadata": {},
   "outputs": [
    {
     "name": "stdout",
     "output_type": "stream",
     "text": [
      "Model: \"sequential_4\"\n",
      "_________________________________________________________________\n",
      "Layer (type)                 Output Shape              Param #   \n",
      "=================================================================\n",
      "conv2d_10 (Conv2D)           (None, 26, 26, 32)        320       \n",
      "_________________________________________________________________\n",
      "max_pooling2d_7 (MaxPooling2 (None, 13, 13, 32)        0         \n",
      "_________________________________________________________________\n",
      "dropout (Dropout)            (None, 13, 13, 32)        0         \n",
      "_________________________________________________________________\n",
      "conv2d_11 (Conv2D)           (None, 11, 11, 64)        18496     \n",
      "_________________________________________________________________\n",
      "max_pooling2d_8 (MaxPooling2 (None, 5, 5, 64)          0         \n",
      "_________________________________________________________________\n",
      "dropout_1 (Dropout)          (None, 5, 5, 64)          0         \n",
      "_________________________________________________________________\n",
      "conv2d_12 (Conv2D)           (None, 3, 3, 64)          36928     \n",
      "_________________________________________________________________\n",
      "flatten_3 (Flatten)          (None, 576)               0         \n",
      "_________________________________________________________________\n",
      "dense_6 (Dense)              (None, 64)                36928     \n",
      "_________________________________________________________________\n",
      "dense_7 (Dense)              (None, 10)                650       \n",
      "=================================================================\n",
      "Total params: 93,322\n",
      "Trainable params: 93,322\n",
      "Non-trainable params: 0\n",
      "_________________________________________________________________\n"
     ]
    }
   ],
   "source": [
    "# Creating the Model\n",
    "\n",
    "# Convolution & Max-Pooling layers\n",
    "model = models.Sequential()\n",
    "model.add(layers.Conv2D(32, (3, 3), activation='relu', input_shape=(28, 28, 1)))\n",
    "model.add(layers.MaxPooling2D((2, 2)))\n",
    "model.add(Dropout(0.50))\n",
    "model.add(layers.Conv2D(64, (3, 3), activation='relu'))\n",
    "model.add(layers.MaxPooling2D((2, 2)))\n",
    "model.add(Dropout(0.50))\n",
    "model.add(layers.Conv2D(64, (3, 3), activation='relu'))\n",
    "\n",
    "# Adding the fully connected layers to CNN\n",
    "model.add(layers.Flatten())\n",
    "model.add(layers.Dense(64, activation='relu'))\n",
    "model.add(layers.Dense(10, activation='softmax'))\n",
    "\n",
    "model.summary()"
   ]
  },
  {
   "cell_type": "code",
   "execution_count": 48,
   "metadata": {},
   "outputs": [],
   "source": [
    "# Compiling the Model\n",
    "model.compile(\n",
    "    optimizer='adam',\n",
    "    loss='categorical_crossentropy',\n",
    "    metrics=['accuracy']\n",
    ")"
   ]
  },
  {
   "cell_type": "code",
   "execution_count": 49,
   "metadata": {},
   "outputs": [
    {
     "data": {
      "text/plain": [
       "((42000, 784), (18000, 784), (10000, 784))"
      ]
     },
     "execution_count": 49,
     "metadata": {},
     "output_type": "execute_result"
    }
   ],
   "source": [
    "# Prepping dataset\n",
    "X = np.array(fashion_mnist_train.iloc[:, 1:])\n",
    "y = to_categorical(np.array(fashion_mnist_train.iloc[:, 0]))\n",
    "\n",
    "# Data split of 30%\n",
    "X_train, X_val, y_train, y_val = train_test_split(X, y, test_size=0.3, random_state=42)\n",
    "\n",
    "# Test data\n",
    "X_test = np.array(fashion_mnist_test.iloc[:, 1:])\n",
    "y_test = to_categorical(np.array(fashion_mnist_test.iloc[:, 0]))\n",
    "\n",
    "X_train.shape, X_val.shape, X_test.shape"
   ]
  },
  {
   "cell_type": "code",
   "execution_count": 50,
   "metadata": {},
   "outputs": [
    {
     "data": {
      "text/plain": [
       "((42000, 28, 28, 1), (18000, 28, 28, 1), (10000, 28, 28, 1))"
      ]
     },
     "execution_count": 50,
     "metadata": {},
     "output_type": "execute_result"
    }
   ],
   "source": [
    "# Reshaping the dataset in (28, 28, 1) in order to feed into neural network\n",
    "X_train = X_train.reshape(X_train.shape[0], 28, 28, 1)\n",
    "X_test = X_test.reshape(X_test.shape[0], 28, 28, 1)\n",
    "X_val = X_val.reshape(X_val.shape[0], 28, 28, 1)\n",
    "\n",
    "# Changing the dataset to float & normalising\n",
    "X_train = X_train.astype('float32')/255\n",
    "X_val = X_val.astype('float32')/255\n",
    "X_test = X_test.astype('float32')/255\n",
    "\n",
    "# Examining the new shape of the dataset\n",
    "X_train.shape, X_val.shape, X_test.shape"
   ]
  },
  {
   "cell_type": "code",
   "execution_count": 51,
   "metadata": {},
   "outputs": [
    {
     "name": "stdout",
     "output_type": "stream",
     "text": [
      "Train on 42000 samples, validate on 18000 samples\n",
      "Epoch 1/20\n",
      "42000/42000 [==============================] - 1s 35us/sample - loss: 0.9448 - accuracy: 0.6476 - val_loss: 0.5971 - val_accuracy: 0.7782\n",
      "Epoch 2/20\n",
      "42000/42000 [==============================] - 1s 20us/sample - loss: 0.5806 - accuracy: 0.7790 - val_loss: 0.4916 - val_accuracy: 0.8262\n",
      "Epoch 3/20\n",
      "42000/42000 [==============================] - 1s 20us/sample - loss: 0.5108 - accuracy: 0.8090 - val_loss: 0.4393 - val_accuracy: 0.8411\n",
      "Epoch 4/20\n",
      "42000/42000 [==============================] - 1s 19us/sample - loss: 0.4651 - accuracy: 0.8280 - val_loss: 0.3994 - val_accuracy: 0.8604\n",
      "Epoch 5/20\n",
      "42000/42000 [==============================] - 1s 20us/sample - loss: 0.4310 - accuracy: 0.8418 - val_loss: 0.3985 - val_accuracy: 0.8590\n",
      "Epoch 6/20\n",
      "42000/42000 [==============================] - 1s 20us/sample - loss: 0.4174 - accuracy: 0.8463 - val_loss: 0.3643 - val_accuracy: 0.8671\n",
      "Epoch 7/20\n",
      "42000/42000 [==============================] - 1s 19us/sample - loss: 0.3969 - accuracy: 0.8538 - val_loss: 0.3389 - val_accuracy: 0.8780\n",
      "Epoch 8/20\n",
      "42000/42000 [==============================] - 1s 20us/sample - loss: 0.3750 - accuracy: 0.8639 - val_loss: 0.3370 - val_accuracy: 0.8796\n",
      "Epoch 9/20\n",
      "42000/42000 [==============================] - 1s 20us/sample - loss: 0.3681 - accuracy: 0.8646 - val_loss: 0.3345 - val_accuracy: 0.8824\n",
      "Epoch 10/20\n",
      "42000/42000 [==============================] - 1s 19us/sample - loss: 0.3556 - accuracy: 0.8702 - val_loss: 0.3168 - val_accuracy: 0.8852\n",
      "Epoch 11/20\n",
      "42000/42000 [==============================] - 1s 20us/sample - loss: 0.3500 - accuracy: 0.8705 - val_loss: 0.3110 - val_accuracy: 0.8883\n",
      "Epoch 12/20\n",
      "42000/42000 [==============================] - 1s 20us/sample - loss: 0.3392 - accuracy: 0.8753 - val_loss: 0.3072 - val_accuracy: 0.8877\n",
      "Epoch 13/20\n",
      "42000/42000 [==============================] - 1s 20us/sample - loss: 0.3317 - accuracy: 0.8780 - val_loss: 0.2977 - val_accuracy: 0.8929\n",
      "Epoch 14/20\n",
      "42000/42000 [==============================] - 1s 20us/sample - loss: 0.3261 - accuracy: 0.8788 - val_loss: 0.2943 - val_accuracy: 0.8920\n",
      "Epoch 15/20\n",
      "42000/42000 [==============================] - 1s 20us/sample - loss: 0.3199 - accuracy: 0.8810 - val_loss: 0.2850 - val_accuracy: 0.8993\n",
      "Epoch 16/20\n",
      "42000/42000 [==============================] - 1s 20us/sample - loss: 0.3127 - accuracy: 0.8835 - val_loss: 0.2957 - val_accuracy: 0.8927\n",
      "Epoch 17/20\n",
      "42000/42000 [==============================] - 1s 20us/sample - loss: 0.3099 - accuracy: 0.8857 - val_loss: 0.2899 - val_accuracy: 0.8958\n",
      "Epoch 18/20\n",
      "42000/42000 [==============================] - 1s 20us/sample - loss: 0.3043 - accuracy: 0.8878 - val_loss: 0.2742 - val_accuracy: 0.9007\n",
      "Epoch 19/20\n",
      "42000/42000 [==============================] - 1s 20us/sample - loss: 0.3035 - accuracy: 0.8873 - val_loss: 0.2754 - val_accuracy: 0.9022\n",
      "Epoch 20/20\n",
      "42000/42000 [==============================] - 1s 20us/sample - loss: 0.2955 - accuracy: 0.8912 - val_loss: 0.2790 - val_accuracy: 0.9015\n"
     ]
    }
   ],
   "source": [
    "EPOCHS = 20\n",
    "BATCH = 256\n",
    "# Fit the CNN model\n",
    "history = model.fit(X_train, y_train, validation_data=(X_val, y_val), epochs=EPOCHS, batch_size=BATCH)"
   ]
  },
  {
   "cell_type": "code",
   "execution_count": 37,
   "metadata": {},
   "outputs": [
    {
     "data": {
      "text/plain": [
       "<matplotlib.legend.Legend at 0x28cec335b48>"
      ]
     },
     "execution_count": 37,
     "metadata": {},
     "output_type": "execute_result"
    },
    {
     "data": {
      "image/png": "[encoded data removed]",
      "text/plain": [
       "<Figure size 1008x432 with 2 Axes>"
      ]
     },
     "metadata": {
      "needs_background": "light"
     },
     "output_type": "display_data"
    }
   ],
   "source": [
    "import matplotlib.pyplot as plt\n",
    "  \n",
    "history_dict = history.history\n",
    "loss_values = history_dict['loss']\n",
    "val_loss_values = history_dict['val_loss']\n",
    "accuracy = history_dict['accuracy']\n",
    "val_accuracy = history_dict['val_accuracy']\n",
    "  \n",
    "epochs = range(1, len(loss_values) + 1)\n",
    "fig, ax = plt.subplots(1, 2, figsize=(14, 6))\n",
    "\n",
    "# Plot the model accuracy vs Epochs\n",
    "ax[0].plot(epochs, accuracy, 'bo', label='Training accuracy')\n",
    "ax[0].plot(epochs, val_accuracy, 'b', label='Validation accuracy')\n",
    "ax[0].set_title('Training &amp; Validation Accuracy', fontsize=16)\n",
    "ax[0].set_xlabel('Epochs', fontsize=16)\n",
    "ax[0].set_ylabel('Accuracy', fontsize=16)\n",
    "ax[0].legend()\n",
    "\n",
    "# Plot the loss vs Epochs\n",
    "ax[1].plot(epochs, loss_values, 'bo', label='Training loss') \n",
    "ax[1].plot(epochs, val_loss_values, 'b', label='Validation loss')\n",
    "ax[1].set_title('Training &amp; Validation Loss', fontsize=16)\n",
    "ax[1].set_xlabel('Epochs', fontsize=16)\n",
    "ax[1].set_ylabel('Loss', fontsize=16)\n",
    "ax[1].legend()"
   ]
  },
  {
   "cell_type": "code",
   "execution_count": 38,
   "metadata": {},
   "outputs": [
    {
     "name": "stdout",
     "output_type": "stream",
     "text": [
      "10000/10000 [==============================] - 0s 42us/sample - loss: 0.2789 - accuracy: 0.9018\n"
     ]
    },
    {
     "data": {
      "text/plain": [
       "(0.2788837134361267, 0.9018)"
      ]
     },
     "execution_count": 38,
     "metadata": {},
     "output_type": "execute_result"
    }
   ],
   "source": [
    "\n",
    "# Evaluate the model accuracy and loss on the test dataset\n",
    "test_loss, test_acc = model.evaluate(X_test, y_test)\n",
    "\n",
    "# Print the loss and accuracy\n",
    "test_loss, test_acc"
   ]
  },
  {
   "cell_type": "code",
   "execution_count": 41,
   "metadata": {},
   "outputs": [],
   "source": [
    "# Save the model\n",
    "model.save('CNN_Fashion_Recog_Model.h5')"
   ]
  },
  {
   "cell_type": "code",
   "execution_count": 40,
   "metadata": {},
   "outputs": [],
   "source": [
    "# # Re-Loading model\n",
    "# validate_model = tf.keras.models.load_model('CNN_Fashion_Recog_Model.h5')\n",
    "\n",
    "# # Show the model architecture\n",
    "# validate_model.summary()\n"
   ]
  }
 ],
 "metadata": {
  "kernelspec": {
   "display_name": "Python [conda env:tensorflow] *",
   "language": "python",
   "name": "conda-env-tensorflow-py"
  },
  "language_info": {
   "codemirror_mode": {
    "name": "ipython",
    "version": 3
   },
   "file_extension": ".py",
   "mimetype": "text/x-python",
   "name": "python",
   "nbconvert_exporter": "python",
   "pygments_lexer": "ipython3",
   "version": "3.7.9"
  }
 },
 "nbformat": 4,
 "nbformat_minor": 4
}
